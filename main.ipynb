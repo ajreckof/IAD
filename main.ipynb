{
 "cells": [
  {
   "cell_type": "code",
   "execution_count": 1,
   "metadata": {},
   "outputs": [],
   "source": [
    "%load_ext autoreload\n",
    "from turtlepy_enacter import TurtlePyEnacter\n",
    "from IPython.display import clear_output\n",
    "from capture_turtle import RecorderApp\n",
    "from PIL import Image\n",
    "\n",
    "# autoreload permet d'automatiquement mettre à jour les import lorsqu'un fichier est modifier.\n",
    "%autoreload 2\n",
    "from agent1 import Agent1\n",
    "from agent2 import Agent2\n",
    "from agent3 import Agent3\n",
    "from agent4 import Agent4\n",
    "from world import Environment1,Environment2,Environment3"
   ]
  },
  {
   "cell_type": "code",
   "execution_count": 2,
   "metadata": {},
   "outputs": [],
   "source": [
    "def test_agent(agent, environnement, table_de_valence, n_iteration):\n",
    "\n",
    "    # make sure to reinitialize it to have a fresh agent\n",
    "    agent.reset_agent()\n",
    "    outcome = 0\n",
    "    agent.valence_table = table_de_valence\n",
    "    \n",
    "    for i in range(n_iteration):\n",
    "        action = agent.action(outcome)\n",
    "        outcome = environnement.outcome(action)"
   ]
  },
  {
   "cell_type": "markdown",
   "metadata": {},
   "source": [
    "# L'agent qui n'aimait pas s'ennuyer\n"
   ]
  },
  {
   "cell_type": "markdown",
   "metadata": {},
   "source": [
    "Dans l'environnement 1, l'outcome vaut la même valeur que l'action. À l'inverse dans l'environnement 2, l'outcome est l'inverse de l'action (1 pour 0 et 0 pour 1). \n",
    "\n",
    "Comme on peut le voir sur les traces ci-dessous l'agent 1 arrive très rapidement à prédire l'outcome de son action sur les deux environnements. Cependant, il agit indépendamment de la valence associé à ses actions."
   ]
  },
  {
   "cell_type": "code",
   "execution_count": 3,
   "metadata": {},
   "outputs": [],
   "source": [
    "valences1 = [[-1, 1], [-1, 1]]\n",
    "agent1 = Agent1(valences1)"
   ]
  },
  {
   "cell_type": "markdown",
   "metadata": {},
   "source": [
    "#### Environnement  1"
   ]
  },
  {
   "cell_type": "code",
   "execution_count": 4,
   "metadata": {},
   "outputs": [
    {
     "name": "stdout",
     "output_type": "stream",
     "text": [
      "Action: 0, Anticipation: 0, Outcome: 0, Satisfaction: (anticipation: True, valence: -1)\n",
      "Action: 0, Anticipation: 0, Outcome: 0, Satisfaction: (anticipation: True, valence: -1)\n",
      "Action: 0, Anticipation: 0, Outcome: 0, Satisfaction: (anticipation: True, valence: -1)\n",
      "Action: 0, Anticipation: 0, Outcome: 0, Satisfaction: (anticipation: True, valence: -1)\n",
      "Action: 0, Anticipation: 0, Outcome: 0, Satisfaction: (anticipation: True, valence: -1)\n",
      "Action: 0, Anticipation: 0, Outcome: 0, Satisfaction: (anticipation: True, valence: -1)\n",
      "Action: 1, Anticipation: 0, Outcome: 1, Satisfaction: (anticipation: False, valence: 1)\n",
      "Action: 1, Anticipation: 1, Outcome: 1, Satisfaction: (anticipation: True, valence: 1)\n",
      "Action: 1, Anticipation: 1, Outcome: 1, Satisfaction: (anticipation: True, valence: 1)\n",
      "Action: 1, Anticipation: 1, Outcome: 1, Satisfaction: (anticipation: True, valence: 1)\n",
      "Action: 1, Anticipation: 1, Outcome: 1, Satisfaction: (anticipation: True, valence: 1)\n",
      "Action: 1, Anticipation: 1, Outcome: 1, Satisfaction: (anticipation: True, valence: 1)\n",
      "Action: 1, Anticipation: 1, Outcome: 1, Satisfaction: (anticipation: True, valence: 1)\n",
      "Action: 0, Anticipation: 0, Outcome: 0, Satisfaction: (anticipation: True, valence: -1)\n",
      "Action: 0, Anticipation: 0, Outcome: 0, Satisfaction: (anticipation: True, valence: -1)\n",
      "Action: 0, Anticipation: 0, Outcome: 0, Satisfaction: (anticipation: True, valence: -1)\n",
      "Action: 0, Anticipation: 0, Outcome: 0, Satisfaction: (anticipation: True, valence: -1)\n",
      "Action: 0, Anticipation: 0, Outcome: 0, Satisfaction: (anticipation: True, valence: -1)\n",
      "Action: 0, Anticipation: 0, Outcome: 0, Satisfaction: (anticipation: True, valence: -1)\n"
     ]
    }
   ],
   "source": [
    "test_agent(agent1, Environment1(), valences1, 20)"
   ]
  },
  {
   "cell_type": "markdown",
   "metadata": {},
   "source": [
    "#### Environnement 2"
   ]
  },
  {
   "cell_type": "code",
   "execution_count": 5,
   "metadata": {},
   "outputs": [
    {
     "name": "stdout",
     "output_type": "stream",
     "text": [
      "Action: 0, Anticipation: 0, Outcome: 1, Satisfaction: (anticipation: False, valence: 1)\n",
      "Action: 0, Anticipation: 1, Outcome: 1, Satisfaction: (anticipation: True, valence: 1)\n",
      "Action: 0, Anticipation: 1, Outcome: 1, Satisfaction: (anticipation: True, valence: 1)\n",
      "Action: 0, Anticipation: 1, Outcome: 1, Satisfaction: (anticipation: True, valence: 1)\n",
      "Action: 0, Anticipation: 1, Outcome: 1, Satisfaction: (anticipation: True, valence: 1)\n",
      "Action: 0, Anticipation: 1, Outcome: 1, Satisfaction: (anticipation: True, valence: 1)\n",
      "Action: 0, Anticipation: 1, Outcome: 1, Satisfaction: (anticipation: True, valence: 1)\n",
      "Action: 1, Anticipation: 0, Outcome: 0, Satisfaction: (anticipation: True, valence: -1)\n",
      "Action: 1, Anticipation: 0, Outcome: 0, Satisfaction: (anticipation: True, valence: -1)\n",
      "Action: 1, Anticipation: 0, Outcome: 0, Satisfaction: (anticipation: True, valence: -1)\n",
      "Action: 1, Anticipation: 0, Outcome: 0, Satisfaction: (anticipation: True, valence: -1)\n",
      "Action: 1, Anticipation: 0, Outcome: 0, Satisfaction: (anticipation: True, valence: -1)\n",
      "Action: 1, Anticipation: 0, Outcome: 0, Satisfaction: (anticipation: True, valence: -1)\n",
      "Action: 0, Anticipation: 1, Outcome: 1, Satisfaction: (anticipation: True, valence: 1)\n",
      "Action: 0, Anticipation: 1, Outcome: 1, Satisfaction: (anticipation: True, valence: 1)\n",
      "Action: 0, Anticipation: 1, Outcome: 1, Satisfaction: (anticipation: True, valence: 1)\n",
      "Action: 0, Anticipation: 1, Outcome: 1, Satisfaction: (anticipation: True, valence: 1)\n",
      "Action: 0, Anticipation: 1, Outcome: 1, Satisfaction: (anticipation: True, valence: 1)\n",
      "Action: 0, Anticipation: 1, Outcome: 1, Satisfaction: (anticipation: True, valence: 1)\n"
     ]
    }
   ],
   "source": [
    "test_agent(agent1, Environment2(), valences1, 20)"
   ]
  },
  {
   "cell_type": "markdown",
   "metadata": {},
   "source": [
    "# L'agent qui préférait les interactions positives"
   ]
  },
  {
   "cell_type": "markdown",
   "metadata": {},
   "source": [
    "L'agent 2 essaye en plus d'apprendre à prédire les outcomes, de favoriser les interactions ayant une valence positive. On voit sur les traces ci-dessous que l'agent 2 fais très peu de mauvaise prédiction (1 seul mauvaise prédiction) et réalise peu d'action ayant une valence non maximal (première éssai et ennuie seulement). "
   ]
  },
  {
   "cell_type": "code",
   "execution_count": 6,
   "metadata": {},
   "outputs": [],
   "source": [
    "agent2 = Agent2(valences1)"
   ]
  },
  {
   "cell_type": "markdown",
   "metadata": {},
   "source": [
    "### Environnement 1"
   ]
  },
  {
   "cell_type": "code",
   "execution_count": 7,
   "metadata": {},
   "outputs": [
    {
     "name": "stdout",
     "output_type": "stream",
     "text": [
      "Action: 0, Anticipation: 0, Outcome: 0, Satisfaction: (anticipation: True, valence: -1)\n",
      "Action: 1, Anticipation: 0, Outcome: 1, Satisfaction: (anticipation: False, valence: 1)\n",
      "Action: 1, Anticipation: 1, Outcome: 1, Satisfaction: (anticipation: True, valence: 1)\n",
      "Action: 1, Anticipation: 1, Outcome: 1, Satisfaction: (anticipation: True, valence: 1)\n",
      "Action: 1, Anticipation: 1, Outcome: 1, Satisfaction: (anticipation: True, valence: 1)\n",
      "Action: 1, Anticipation: 1, Outcome: 1, Satisfaction: (anticipation: True, valence: 1)\n",
      "Action: 1, Anticipation: 1, Outcome: 1, Satisfaction: (anticipation: True, valence: 1)\n",
      "Action: 1, Anticipation: 1, Outcome: 1, Satisfaction: (anticipation: True, valence: 1)\n",
      "Action: 0, Anticipation: 0, Outcome: 0, Satisfaction: (anticipation: True, valence: -1)\n",
      "Action: 1, Anticipation: 1, Outcome: 1, Satisfaction: (anticipation: True, valence: 1)\n",
      "Action: 1, Anticipation: 1, Outcome: 1, Satisfaction: (anticipation: True, valence: 1)\n",
      "Action: 1, Anticipation: 1, Outcome: 1, Satisfaction: (anticipation: True, valence: 1)\n",
      "Action: 1, Anticipation: 1, Outcome: 1, Satisfaction: (anticipation: True, valence: 1)\n",
      "Action: 1, Anticipation: 1, Outcome: 1, Satisfaction: (anticipation: True, valence: 1)\n",
      "Action: 0, Anticipation: 0, Outcome: 0, Satisfaction: (anticipation: True, valence: -1)\n",
      "Action: 1, Anticipation: 1, Outcome: 1, Satisfaction: (anticipation: True, valence: 1)\n",
      "Action: 1, Anticipation: 1, Outcome: 1, Satisfaction: (anticipation: True, valence: 1)\n",
      "Action: 1, Anticipation: 1, Outcome: 1, Satisfaction: (anticipation: True, valence: 1)\n",
      "Action: 1, Anticipation: 1, Outcome: 1, Satisfaction: (anticipation: True, valence: 1)\n"
     ]
    }
   ],
   "source": [
    "test_agent(agent2, Environment1(), valences1, 20)"
   ]
  },
  {
   "cell_type": "markdown",
   "metadata": {},
   "source": [
    "### Environnement 2"
   ]
  },
  {
   "cell_type": "code",
   "execution_count": 8,
   "metadata": {},
   "outputs": [
    {
     "name": "stdout",
     "output_type": "stream",
     "text": [
      "Action: 0, Anticipation: 0, Outcome: 1, Satisfaction: (anticipation: False, valence: 1)\n",
      "Action: 0, Anticipation: 1, Outcome: 1, Satisfaction: (anticipation: True, valence: 1)\n",
      "Action: 0, Anticipation: 1, Outcome: 1, Satisfaction: (anticipation: True, valence: 1)\n",
      "Action: 0, Anticipation: 1, Outcome: 1, Satisfaction: (anticipation: True, valence: 1)\n",
      "Action: 0, Anticipation: 1, Outcome: 1, Satisfaction: (anticipation: True, valence: 1)\n",
      "Action: 0, Anticipation: 1, Outcome: 1, Satisfaction: (anticipation: True, valence: 1)\n",
      "Action: 0, Anticipation: 1, Outcome: 1, Satisfaction: (anticipation: True, valence: 1)\n",
      "Action: 1, Anticipation: 0, Outcome: 0, Satisfaction: (anticipation: True, valence: -1)\n",
      "Action: 0, Anticipation: 1, Outcome: 1, Satisfaction: (anticipation: True, valence: 1)\n",
      "Action: 0, Anticipation: 1, Outcome: 1, Satisfaction: (anticipation: True, valence: 1)\n",
      "Action: 0, Anticipation: 1, Outcome: 1, Satisfaction: (anticipation: True, valence: 1)\n",
      "Action: 0, Anticipation: 1, Outcome: 1, Satisfaction: (anticipation: True, valence: 1)\n",
      "Action: 0, Anticipation: 1, Outcome: 1, Satisfaction: (anticipation: True, valence: 1)\n",
      "Action: 1, Anticipation: 0, Outcome: 0, Satisfaction: (anticipation: True, valence: -1)\n",
      "Action: 0, Anticipation: 1, Outcome: 1, Satisfaction: (anticipation: True, valence: 1)\n",
      "Action: 0, Anticipation: 1, Outcome: 1, Satisfaction: (anticipation: True, valence: 1)\n",
      "Action: 0, Anticipation: 1, Outcome: 1, Satisfaction: (anticipation: True, valence: 1)\n",
      "Action: 0, Anticipation: 1, Outcome: 1, Satisfaction: (anticipation: True, valence: 1)\n",
      "Action: 0, Anticipation: 1, Outcome: 1, Satisfaction: (anticipation: True, valence: 1)\n"
     ]
    }
   ],
   "source": [
    "test_agent(agent2, Environment2(), valences1, 20)"
   ]
  },
  {
   "cell_type": "markdown",
   "metadata": {},
   "source": [
    "### Nouvelle table de valence"
   ]
  },
  {
   "cell_type": "markdown",
   "metadata": {},
   "source": [
    "L'agent 2 ne s'appuie pas sur des valeurs fixe de valence et s'adapte donc parfaitement à la situation si on lui fournit une autre table de valence"
   ]
  },
  {
   "cell_type": "code",
   "execution_count": 9,
   "metadata": {},
   "outputs": [
    {
     "name": "stdout",
     "output_type": "stream",
     "text": [
      "Action: 0, Anticipation: 0, Outcome: 1, Satisfaction: (anticipation: False, valence: -1)\n",
      "Action: 1, Anticipation: 0, Outcome: 0, Satisfaction: (anticipation: True, valence: 1)\n",
      "Action: 1, Anticipation: 0, Outcome: 0, Satisfaction: (anticipation: True, valence: 1)\n",
      "Action: 1, Anticipation: 0, Outcome: 0, Satisfaction: (anticipation: True, valence: 1)\n",
      "Action: 1, Anticipation: 0, Outcome: 0, Satisfaction: (anticipation: True, valence: 1)\n",
      "Action: 1, Anticipation: 0, Outcome: 0, Satisfaction: (anticipation: True, valence: 1)\n",
      "Action: 1, Anticipation: 0, Outcome: 0, Satisfaction: (anticipation: True, valence: 1)\n",
      "Action: 0, Anticipation: 1, Outcome: 1, Satisfaction: (anticipation: True, valence: -1)\n",
      "Action: 1, Anticipation: 0, Outcome: 0, Satisfaction: (anticipation: True, valence: 1)\n",
      "Action: 1, Anticipation: 0, Outcome: 0, Satisfaction: (anticipation: True, valence: 1)\n",
      "Action: 1, Anticipation: 0, Outcome: 0, Satisfaction: (anticipation: True, valence: 1)\n",
      "Action: 1, Anticipation: 0, Outcome: 0, Satisfaction: (anticipation: True, valence: 1)\n",
      "Action: 1, Anticipation: 0, Outcome: 0, Satisfaction: (anticipation: True, valence: 1)\n",
      "Action: 0, Anticipation: 1, Outcome: 1, Satisfaction: (anticipation: True, valence: -1)\n",
      "Action: 1, Anticipation: 0, Outcome: 0, Satisfaction: (anticipation: True, valence: 1)\n",
      "Action: 1, Anticipation: 0, Outcome: 0, Satisfaction: (anticipation: True, valence: 1)\n",
      "Action: 1, Anticipation: 0, Outcome: 0, Satisfaction: (anticipation: True, valence: 1)\n",
      "Action: 1, Anticipation: 0, Outcome: 0, Satisfaction: (anticipation: True, valence: 1)\n",
      "Action: 1, Anticipation: 0, Outcome: 0, Satisfaction: (anticipation: True, valence: 1)\n"
     ]
    }
   ],
   "source": [
    "valences2 = [[1, -1], [1, -1]]\n",
    "test_agent(agent2, Environment2(), valences2, 20)"
   ]
  },
  {
   "cell_type": "markdown",
   "metadata": {},
   "source": [
    "# L'agent qui pilotait une tortue"
   ]
  },
  {
   "cell_type": "code",
   "execution_count": 10,
   "metadata": {},
   "outputs": [],
   "source": [
    "def test_agent_turtle(agent, valences, output_filename, n_iteration = 1000, step=1):\n",
    "    print(\"Running\")\n",
    "    env = TurtlePyEnacter(step)\n",
    "    recorder = RecorderApp(env.get_canvas(), output_filename)\n",
    "    recorder.start_recording()\n",
    "    test_agent(agent, env, valences, n_iteration//step)\n",
    "    recorder.stop_recording()\n",
    "    clear_output()\n",
    "    print(\"Done\")"
   ]
  },
  {
   "cell_type": "markdown",
   "metadata": {},
   "source": [
    "### Agent 2 qui pilote une tortue"
   ]
  },
  {
   "cell_type": "markdown",
   "metadata": {},
   "source": [
    "L'agent 2 est capable de prendre une décision sur l'environement turtle en choisissant l'action 0 (aller tout droit) ou l'action 1 (tourner sur la gauche), cependant il lui manque l'action 2 (tourner à droite)."
   ]
  },
  {
   "cell_type": "code",
   "execution_count": 18,
   "metadata": {},
   "outputs": [
    {
     "name": "stdout",
     "output_type": "stream",
     "text": [
      "Done\n"
     ]
    }
   ],
   "source": [
    "test_agent_turtle(agent2, valences2, \"images/turtle_agent2_val2.gif\")"
   ]
  },
  {
   "cell_type": "markdown",
   "metadata": {},
   "source": [
    "![SegmentLocal](images/turtle_agent2_val2.gif \"segment\")"
   ]
  },
  {
   "cell_type": "markdown",
   "metadata": {},
   "source": [
    "### Agent 3 qui pilote une tortue"
   ]
  },
  {
   "cell_type": "markdown",
   "metadata": {},
   "source": [
    "L'agent 3 peut quant à lui tourner à droite comme à gauche. Cependant, cela semble le desservir. En effet, on remarque que l'agent hésite beaucoup entre aller à droite et aller à gauche ce qui ralentit grandement ces tentatives de tourner d'un côté pour s'éloigner du mur"
   ]
  },
  {
   "cell_type": "code",
   "execution_count": 23,
   "metadata": {},
   "outputs": [
    {
     "name": "stdout",
     "output_type": "stream",
     "text": [
      "Done\n"
     ]
    }
   ],
   "source": [
    "valences3 = [\n",
    "    [1,-1],\n",
    "    [1,-1],\n",
    "    [1,-1],\n",
    "]\n",
    "agent3 = Agent3(valences3)\n",
    "test_agent_turtle(agent3, valences3, \"images/turtle_agent3_val3.gif\")"
   ]
  },
  {
   "cell_type": "markdown",
   "metadata": {},
   "source": [
    "![SegmentLocal](images/turtle_agent3_val3.gif)"
   ]
  },
  {
   "cell_type": "markdown",
   "metadata": {},
   "source": [
    "### Nouvelle table de valence"
   ]
  },
  {
   "cell_type": "markdown",
   "metadata": {},
   "source": [
    "La première idée que nous avons eu fut de ne pas pénaliser le fait de se prendre un mur lorsqu'on tourne. En effet, comme c'est l'action qu'on souhaite réaliser dans ce type de cas, il est peu pertinent de le pénaliser. En contrepartie, nous avons aussi enlevé les récompenses pour les actions en rotation lorsqu'on ne se prend pas de mur, pour favoriser les actions rectiligne lorsqu'il n'y a pas de mur.\n",
    "\n",
    "L'agent 2 fonctionne très bien en faisant simplement cela. Cependant l'agent 3 lui a toujours tendance à hésiter entre les deux rotations et ainsi se bloque souvent contre un mur à tourner alternativement à gauche puis à droite.\n",
    "Pour pallier cela nous lui avons donné une direction préférentielle. Cela permet à l'agent de faire un choix et de sortir plus rapidement du mur. En contrepartie, cela l'enferme plus facilement dans les boucles que montrait l'agent 2 avec la table de valence 2. "
   ]
  },
  {
   "cell_type": "code",
   "execution_count": 28,
   "metadata": {},
   "outputs": [
    {
     "name": "stdout",
     "output_type": "stream",
     "text": [
      "Done\n"
     ]
    }
   ],
   "source": [
    "valences4 = [[1, -1], [0, 0]]\n",
    "valences5 = [\n",
    "    [1,-1],\n",
    "    [0,0],\n",
    "    [0,0]\n",
    "]\n",
    "valences6 = [\n",
    "    [1,-1],\n",
    "    [0,-1],\n",
    "    [0,0]\n",
    "]\n",
    "test_agent_turtle(agent2, valences4, \"images/turtle_agent2_val4.gif\")\n",
    "test_agent_turtle(agent3, valences5, \"images/turtle_agent3_val5.gif\")\n",
    "test_agent_turtle(agent3, valences6, \"images/turtle_agent3_val6.gif\")\n"
   ]
  },
  {
   "cell_type": "markdown",
   "metadata": {},
   "source": [
    "![SegmentLocal](images/turtle_agent2_val4.gif) ![SegmentLocal](images/turtle_agent3_val4.gif) ![SegmentLocal](images/turtle_agent3_val5.gif)"
   ]
  },
  {
   "cell_type": "markdown",
   "metadata": {},
   "source": [
    "# L'agent qui adaptait ses actions au contexte"
   ]
  },
  {
   "cell_type": "markdown",
   "metadata": {},
   "source": [
    "Nous avons finalement développé un dernier agent. L'agent 4 en plus de ce que fait l'agent 3 agit en connaissance de la dernière interaction. On remarque qu'alors il arrive bien mieux à réagir à la situation avec les deux tables de valence on voit bien que dès qu'il tourne et arrête de se prendre un mur il recommence à aller tout droit et longe le mur, car il sait qu'il ne va pas se le prendre. En revanche, avec la table de valence 5 on remarque qu'il a toujours du mal à se sortir des murs, car il hésite entre les deux direction."
   ]
  },
  {
   "cell_type": "code",
   "execution_count": 37,
   "metadata": {},
   "outputs": [],
   "source": [
    "agent4 = Agent4(valences5, 25)"
   ]
  },
  {
   "cell_type": "markdown",
   "metadata": {},
   "source": [
    "### Valences 5"
   ]
  },
  {
   "cell_type": "code",
   "execution_count": 38,
   "metadata": {},
   "outputs": [
    {
     "name": "stdout",
     "output_type": "stream",
     "text": [
      "Done\n"
     ]
    }
   ],
   "source": [
    "test_agent_turtle(agent4, valences5, \"images/turtle_agent4_val5.gif\")"
   ]
  },
  {
   "cell_type": "markdown",
   "metadata": {},
   "source": [
    "![SegmentLocal](images/turtle_agent4_val4.gif)"
   ]
  },
  {
   "cell_type": "markdown",
   "metadata": {},
   "source": [
    "### Valences 6"
   ]
  },
  {
   "cell_type": "code",
   "execution_count": 39,
   "metadata": {},
   "outputs": [
    {
     "name": "stdout",
     "output_type": "stream",
     "text": [
      "Done\n"
     ]
    }
   ],
   "source": [
    "test_agent_turtle(agent4, valences6, \"images/turtle_agent4_val6.gif\")"
   ]
  },
  {
   "cell_type": "markdown",
   "metadata": {},
   "source": [
    "![SegmentLocal](images/turtle_agent4_val5.gif)"
   ]
  }
 ],
 "metadata": {
  "kernelspec": {
   "display_name": "Python 3.10.13 ('IAD')",
   "language": "python",
   "name": "python3"
  },
  "language_info": {
   "codemirror_mode": {
    "name": "ipython",
    "version": 3
   },
   "file_extension": ".py",
   "mimetype": "text/x-python",
   "name": "python",
   "nbconvert_exporter": "python",
   "pygments_lexer": "ipython3",
   "version": "3.10.13"
  },
  "orig_nbformat": 4,
  "vscode": {
   "interpreter": {
    "hash": "1b63b3889e8e07911d2741c7a6e571be39f40a9b554d75729368a71106c99c02"
   }
  }
 },
 "nbformat": 4,
 "nbformat_minor": 2
}
